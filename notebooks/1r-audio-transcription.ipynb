{
 "cells": [
  {
   "cell_type": "markdown",
   "id": "881f97fd-b8ea-47cf-9450-7162772f74ae",
   "metadata": {},
   "source": [
    "## \\[Research\\] Audio transcription with `faster-whisper`\n",
    "\n",
    "This notebook demonstrates the audio processing pipeline, focusing on transcribing audio with `faster-whisper`."
   ]
  },
  {
   "cell_type": "markdown",
   "id": "70d7beec-d477-4e59-bfe8-5ce5691644b8",
   "metadata": {},
   "source": [
    "### 1. Imports and Configurations"
   ]
  },
  {
   "cell_type": "code",
   "execution_count": null,
   "id": "f75c7610-15a7-4e8a-95bb-28c3c460c606",
   "metadata": {},
   "outputs": [],
   "source": [
    "import warnings\n",
    "import pandas as pd\n",
    "import justsdk\n",
    "\n",
    "from pathlib import Path\n",
    "from faster_whisper import WhisperModel\n",
    "\n",
    "warnings.filterwarnings(\"ignore\")\n",
    "\n",
    "ROOT = Path.cwd().parent\n",
    "DATA_DIR = ROOT / \"data\"\n",
    "RAW_DIR = DATA_DIR / \"raw\"\n",
    "SAMPLE_DIR = DATA_DIR / \"sample\"\n",
    "MODEL_DIR = ROOT / \"models\"\n",
    "\n",
    "WHISPER_MODEL = \"base\"\n",
    "\n",
    "WHISPER_CONFIG = {\n",
    "    \"model_size\": WHISPER_MODEL,\n",
    "    \"device\": \"cpu\",\n",
    "    \"compute_type\": \"int8\",\n",
    "    \"num_workers\": 2,\n",
    "    \"download_root\": str(MODEL_DIR / f\"whisper-{WHISPER_MODEL}\"),\n",
    "}\n",
    "\n",
    "AUDIO_CONFIG = {\n",
    "    \"language\": \"en\",\n",
    "    \"task\": \"transcribe\",\n",
    "    \"beam_size\": 5,  # Paths searches during decoding\n",
    "    \"best_of\": 5,\n",
    "    \"patience\": 1,\n",
    "    \"length_penalty\": 1,\n",
    "    \"temperature\": [0.0, 0.2, 0.4, 0.6, 0.8, 1.0],  # Temperature fallback\n",
    "    \"compression_ratio_threshold\": 2.4,  # Reject if text is too repetitive\n",
    "    \"log_prob_threshold\": -1.0,  # Threshold for confidence levels\n",
    "    \"no_speech_threshold\": 0.6,  # Threshold for non-speech detection\n",
    "    \"word_timestamps\": True,  # Generate word-level timestamps\n",
    "    \"vad_filter\": True,  # Skip silent parts\n",
    "    \"vad_parameters\": {\n",
    "        \"threshold\": 0.5,\n",
    "        \"min_speech_duration_ms\": 250,\n",
    "        \"max_speech_duration_s\": float(\"inf\"),\n",
    "        \"min_silence_duration_ms\": 2000,\n",
    "        \"window_size_samples\": 1024,\n",
    "        \"speech_pad_ms\": 400,\n",
    "    },\n",
    "}\n",
    "\n",
    "justsdk.print_info(f\"WHISPER_MODEL: {WHISPER_MODEL}\", newline_before=True)\n",
    "justsdk.print_info(f\"DEVICE: {WHISPER_CONFIG['device']}\")"
   ]
  }
 ],
 "metadata": {
  "kernelspec": {
   "display_name": ".venv",
   "language": "python",
   "name": "python3"
  },
  "language_info": {
   "codemirror_mode": {
    "name": "ipython",
    "version": 3
   },
   "file_extension": ".py",
   "mimetype": "text/x-python",
   "name": "python",
   "nbconvert_exporter": "python",
   "pygments_lexer": "ipython3",
   "version": "3.11.13"
  }
 },
 "nbformat": 4,
 "nbformat_minor": 5
}
