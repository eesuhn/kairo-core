{
 "cells": [
  {
   "cell_type": "markdown",
   "metadata": {},
   "source": [
    "## Extract from text-based docs"
   ]
  },
  {
   "cell_type": "markdown",
   "metadata": {},
   "source": [
    "This notebook demonstrates the pipeline to:\n",
    "\n",
    "- Extract text from text-based documents using `pymupdf`."
   ]
  },
  {
   "cell_type": "markdown",
   "metadata": {},
   "source": [
    "### 1. Importing libraries"
   ]
  },
  {
   "cell_type": "code",
   "execution_count": null,
   "metadata": {},
   "outputs": [],
   "source": [
    "import warnings\n",
    "import justsdk\n",
    "import pymupdf\n",
    "\n",
    "from _constants import SAMPLE_DIR"
   ]
  },
  {
   "cell_type": "markdown",
   "metadata": {},
   "source": [
    "### 2. Configurations"
   ]
  },
  {
   "cell_type": "code",
   "execution_count": null,
   "metadata": {},
   "outputs": [],
   "source": [
    "warnings.filterwarnings(\"ignore\")\n",
    "\n",
    "TARGET_DIR = SAMPLE_DIR / \"text\"\n",
    "\n",
    "TARGET_SAMPLE = \"agile-method.pdf\""
   ]
  },
  {
   "cell_type": "markdown",
   "metadata": {},
   "source": [
    "### 3. Get sample files"
   ]
  },
  {
   "cell_type": "code",
   "execution_count": null,
   "metadata": {},
   "outputs": [],
   "source": [
    "def get_sample_files() -> dict:\n",
    "    sample_ext = [\".pdf\", \".docx\"]\n",
    "\n",
    "    samples = [sample for ext in sample_ext for sample in TARGET_DIR.glob(f\"*{ext}\")]\n",
    "\n",
    "    samples_dict = {}\n",
    "    for sample in samples:\n",
    "        size_mb = sample.stat().st_size / (1024 * 1024)\n",
    "        samples_dict[sample.name] = {\n",
    "            \"path\": sample,\n",
    "            \"size_mb\": size_mb,\n",
    "        }\n",
    "\n",
    "    return samples_dict\n",
    "\n",
    "\n",
    "sample_input = get_sample_files()\n",
    "justsdk.print_info(\"Sample files found:\")\n",
    "for name, info in sample_input.items():\n",
    "    print(f\"  {name} ({info['size_mb']:.2f} MB): {info['path']}\")"
   ]
  },
  {
   "cell_type": "markdown",
   "metadata": {},
   "source": [
    "### 4. Extract text"
   ]
  },
  {
   "cell_type": "code",
   "execution_count": null,
   "metadata": {},
   "outputs": [],
   "source": [
    "target_doc = pymupdf.open(sample_input[TARGET_SAMPLE][\"path\"])\n",
    "text_target_doc = \"\".join(\n",
    "    [target_doc.load_page(i).get_text() for i in range(len(target_doc))]\n",
    ")\n",
    "text_clean_target_doc = text_target_doc.replace(\"\\n\", \" \").replace(\"\\r\", \" \")\n",
    "\n",
    "justsdk.print_info(\"Extracted text (raw):\")\n",
    "print(text_target_doc[:500] + \"...\")\n",
    "\n",
    "justsdk.print_info(\"Extracted text (cleaned):\")\n",
    "print(text_clean_target_doc[:100] + \"...\")"
   ]
  }
 ],
 "metadata": {
  "kernelspec": {
   "display_name": ".venv",
   "language": "python",
   "name": "python3"
  },
  "language_info": {
   "codemirror_mode": {
    "name": "ipython",
    "version": 3
   },
   "file_extension": ".py",
   "mimetype": "text/x-python",
   "name": "python",
   "nbconvert_exporter": "python",
   "pygments_lexer": "ipython3",
   "version": "3.11.13"
  }
 },
 "nbformat": 4,
 "nbformat_minor": 2
}
